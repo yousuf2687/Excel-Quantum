{
  "nbformat": 4,
  "nbformat_minor": 0,
  "metadata": {
    "colab": {
      "provenance": [],
      "authorship_tag": "ABX9TyMCaxJtA/WgFbOVnErHX2RZ",
      "include_colab_link": true
    },
    "kernelspec": {
      "name": "python3",
      "display_name": "Python 3"
    },
    "language_info": {
      "name": "python"
    }
  },
  "cells": [
    {
      "cell_type": "markdown",
      "metadata": {
        "id": "view-in-github",
        "colab_type": "text"
      },
      "source": [
        "<a href=\"https://colab.research.google.com/github/yousuf2687/Excel-Quantum/blob/main/Untitled1.ipynb\" target=\"_parent\"><img src=\"https://colab.research.google.com/assets/colab-badge.svg\" alt=\"Open In Colab\"/></a>"
      ]
    },
    {
      "cell_type": "code",
      "source": [
        "import pandas as pd\n",
        "import random\n",
        "import uuid\n",
        "from datetime import datetime, timedelta\n",
        "\n",
        "# Parameters\n",
        "total_requests = 10000\n",
        "start_date = datetime.now() - timedelta(days=5*365)  # Start from 5 years ago\n",
        "\n",
        "# Service Types and Priorities\n",
        "service_types = [\"Technical Support\", \"Billing\", \"Account Management\", \"General Inquiry\"]\n",
        "priorities = [\"Low\", \"Medium\", \"High\", \"Urgent\"]\n",
        "\n",
        "# SLA Ranges (hours)\n",
        "first_response_sla_range = {\"Low\": 24, \"Medium\": 12, \"High\": 4, \"Urgent\": 1}\n",
        "resolution_sla_range = {\"Low\": 168, \"Medium\": 72, \"High\": 24, \"Urgent\": 8}\n",
        "\n",
        "# Generate data\n",
        "requests = []\n",
        "for _ in range(total_requests):\n",
        "    request_id = str(uuid.uuid4())\n",
        "    customer_id = random.randint(1000, 9999)\n",
        "    service_type = random.choice(service_types)\n",
        "    priority = random.choice(priorities)\n",
        "\n",
        "    request_created = start_date + timedelta(days=random.randint(0, 5*365), hours=random.randint(0, 23), minutes=random.randint(0, 59))\n",
        "    first_response_sla = first_response_sla_range[priority]\n",
        "    resolution_sla = resolution_sla_range[priority]\n",
        "\n",
        "    # Generate first response time\n",
        "    first_response_time = request_created + timedelta(hours=random.randint(1, first_response_sla*2))\n",
        "    first_response_met = \"Yes\" if (first_response_time - request_created).total_seconds() / 3600 <= first_response_sla else \"No\"\n",
        "\n",
        "    # Generate resolution time\n",
        "    resolved_time = first_response_time + timedelta(hours=random.randint(1, resolution_sla*2))\n",
        "    resolution_met = \"Yes\" if (resolved_time - request_created).total_seconds() / 3600 <= resolution_sla else \"No\"\n",
        "\n",
        "    # Store record\n",
        "    requests.append([\n",
        "        request_id, customer_id, service_type, priority,\n",
        "        request_created, first_response_time, resolved_time,\n",
        "        first_response_sla, resolution_sla,\n",
        "        first_response_met, resolution_met\n",
        "    ])\n",
        "\n",
        "# Create DataFrame\n",
        "df = pd.DataFrame(requests, columns=[\n",
        "    \"Request ID\", \"Customer ID\", \"Service Type\", \"Priority\",\n",
        "    \"Request Created DateTime\", \"First Response DateTime\", \"Resolved DateTime\",\n",
        "    \"SLA for First Response (Hours)\", \"SLA for Resolution (Hours)\",\n",
        "    \"First Response SLA Met?\", \"Resolution SLA Met?\"\n",
        "])\n",
        "\n",
        "# Save to CSV\n",
        "df.to_csv(\"service_requests.csv\", index=False)\n",
        "\n",
        "print(\"Dataset generated and saved as service_requests.csv\")\n"
      ],
      "metadata": {
        "colab": {
          "base_uri": "https://localhost:8080/"
        },
        "id": "XjXtJTtdQMMj",
        "outputId": "65489a68-42dd-4728-dc6e-e918ec73e4fe"
      },
      "execution_count": 7,
      "outputs": [
        {
          "output_type": "stream",
          "name": "stdout",
          "text": [
            "Dataset generated and saved as service_requests.csv\n"
          ]
        }
      ]
    }
  ]
}