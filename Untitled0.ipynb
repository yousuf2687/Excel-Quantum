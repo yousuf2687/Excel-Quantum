{
  "nbformat": 4,
  "nbformat_minor": 0,
  "metadata": {
    "colab": {
      "provenance": [],
      "authorship_tag": "ABX9TyPD7bGNkO9hAdusG7QhqKIh",
      "include_colab_link": true
    },
    "kernelspec": {
      "name": "python3",
      "display_name": "Python 3"
    },
    "language_info": {
      "name": "python"
    }
  },
  "cells": [
    {
      "cell_type": "markdown",
      "metadata": {
        "id": "view-in-github",
        "colab_type": "text"
      },
      "source": [
        "<a href=\"https://colab.research.google.com/github/yousuf2687/Excel-Quantum/blob/main/Untitled0.ipynb\" target=\"_parent\"><img src=\"https://colab.research.google.com/assets/colab-badge.svg\" alt=\"Open In Colab\"/></a>"
      ]
    },
    {
      "cell_type": "code",
      "execution_count": null,
      "metadata": {
        "colab": {
          "base_uri": "https://localhost:8080/",
          "height": 17
        },
        "id": "yafMaZI5wU-i",
        "outputId": "e581e3dd-8ff7-4094-a4a9-904fe81a1bf4"
      },
      "outputs": [
        {
          "output_type": "display_data",
          "data": {
            "text/plain": [
              "<IPython.core.display.Javascript object>"
            ],
            "application/javascript": [
              "\n",
              "    async function download(id, filename, size) {\n",
              "      if (!google.colab.kernel.accessAllowed) {\n",
              "        return;\n",
              "      }\n",
              "      const div = document.createElement('div');\n",
              "      const label = document.createElement('label');\n",
              "      label.textContent = `Downloading \"${filename}\": `;\n",
              "      div.appendChild(label);\n",
              "      const progress = document.createElement('progress');\n",
              "      progress.max = size;\n",
              "      div.appendChild(progress);\n",
              "      document.body.appendChild(div);\n",
              "\n",
              "      const buffers = [];\n",
              "      let downloaded = 0;\n",
              "\n",
              "      const channel = await google.colab.kernel.comms.open(id);\n",
              "      // Send a message to notify the kernel that we're ready.\n",
              "      channel.send({})\n",
              "\n",
              "      for await (const message of channel.messages) {\n",
              "        // Send a message to notify the kernel that we're ready.\n",
              "        channel.send({})\n",
              "        if (message.buffers) {\n",
              "          for (const buffer of message.buffers) {\n",
              "            buffers.push(buffer);\n",
              "            downloaded += buffer.byteLength;\n",
              "            progress.value = downloaded;\n",
              "          }\n",
              "        }\n",
              "      }\n",
              "      const blob = new Blob(buffers, {type: 'application/binary'});\n",
              "      const a = document.createElement('a');\n",
              "      a.href = window.URL.createObjectURL(blob);\n",
              "      a.download = filename;\n",
              "      div.appendChild(a);\n",
              "      a.click();\n",
              "      div.remove();\n",
              "    }\n",
              "  "
            ]
          },
          "metadata": {}
        },
        {
          "output_type": "display_data",
          "data": {
            "text/plain": [
              "<IPython.core.display.Javascript object>"
            ],
            "application/javascript": [
              "download(\"download_ed1029b1-620a-4bb1-8913-56351175c75b\", \"Updated_Employee_Attendance_Report.csv\", 11918)"
            ]
          },
          "metadata": {}
        }
      ],
      "source": [
        "import pandas as pd\n",
        "\n",
        "# Load the uploaded employee attendance data\n",
        "file_path = \"Employee_Attendance_Data.csv\"  # Change this if your file has a different name\n",
        "df = pd.read_csv(file_path)\n",
        "\n",
        "# Convert Date column to datetime format for filtering\n",
        "df[\"Date\"] = pd.to_datetime(df[\"Date\"])\n",
        "\n",
        "# Get the latest month available in the data\n",
        "latest_month = df[\"Date\"].max().month\n",
        "latest_year = df[\"Date\"].max().year\n",
        "\n",
        "# Filter data for the latest month and year\n",
        "latest_month_data = df[(df[\"Date\"].dt.month == latest_month) & (df[\"Date\"].dt.year == latest_year)]\n",
        "\n",
        "# Define attendance report calculations\n",
        "attendance_report = latest_month_data.groupby(\"EmployeeID\").agg(\n",
        "    Total_Working_Days=pd.NamedAgg(column=\"Date\", aggfunc=lambda x: x.nunique()),\n",
        "    Total_Present=pd.NamedAgg(column=\"In/Out\", aggfunc=lambda x: (x == \"In\").sum()),\n",
        "    Total_Absent=pd.NamedAgg(column=\"In/Out\", aggfunc=lambda x: (x == \"Out\").sum()),\n",
        "    Total_Overtime=pd.NamedAgg(column=\"Time\", aggfunc=lambda x: len(x) // 10)  # Approximation of overtime occurrences\n",
        ").reset_index()\n",
        "\n",
        "# Add ID column\n",
        "attendance_report.insert(0, \"ID\", range(1, len(attendance_report) + 1))\n",
        "\n",
        "# Save the updated report as CSV\n",
        "report_path = \"Updated_Employee_Attendance_Report.csv\"\n",
        "attendance_report.to_csv(report_path, index=False)\n",
        "\n",
        "# Provide a download link\n",
        "from google.colab import files\n",
        "files.download(report_path)\n"
      ]
    },
    {
      "cell_type": "code",
      "source": [
        "# prompt: Use uploaded Employee Attendance sheet and Summarize Yearly Attendance and columns will be EmployeeID, Jan, Feb, Mar, Apr, May, June, Total Attendance, Total Overtime\n",
        "\n",
        "import pandas as pd\n",
        "\n",
        "# Assuming 'df' is your DataFrame loaded from 'Employee_Attendance_Data.csv'\n",
        "# ... (your existing code to load the dataframe)\n",
        "\n",
        "# Convert 'Date' column to datetime objects if it's not already\n",
        "df['Date'] = pd.to_datetime(df['Date'])\n",
        "\n",
        "# Extract year and month\n",
        "df['Year'] = df['Date'].dt.year\n",
        "df['Month'] = df['Date'].dt.month\n",
        "\n",
        "# Create a pivot table for yearly attendance summary\n",
        "yearly_attendance = pd.pivot_table(df, values='In/Out', index='EmployeeID', columns='Month', aggfunc=lambda x: (x == 'In').sum(), fill_value=0)\n",
        "\n",
        "# Calculate total attendance and overtime\n",
        "yearly_attendance['Total Attendance'] = yearly_attendance.sum(axis=1)\n",
        "# Replace this with actual overtime calculation from your data\n",
        "yearly_attendance['Total Overtime'] = 0 # Placeholder – replace with your actual overtime calculation\n",
        "\n",
        "# Rename columns for clarity (optional)\n",
        "yearly_attendance = yearly_attendance.rename(columns={\n",
        "    1: 'Jan', 2: 'Feb', 3: 'Mar', 4: 'Apr', 5: 'May', 6: 'June',\n",
        "    7: 'July', 8: 'Aug', 9: 'Sept', 10: 'Oct', 11: 'Nov', 12: 'Dec'\n",
        "})\n",
        "\n",
        "# Reorder columns\n",
        "columns = ['Jan', 'Feb', 'Mar', 'Apr', 'May', 'June', 'July', 'Aug', 'Sept', 'Oct', 'Nov', 'Dec', 'Total Attendance', 'Total Overtime']\n",
        "yearly_attendance = yearly_attendance[columns]\n",
        "\n",
        "\n",
        "# Save the yearly summary to a new CSV file\n",
        "yearly_attendance.to_csv('Yearly_Attendance_Summary.csv')\n",
        "\n",
        "# Download the file (optional, uncomment if you want to download directly from Colab)\n",
        "# from google.colab import files\n",
        "# files.download('Yearly_Attendance_Summary.csv')\n"
      ],
      "metadata": {
        "id": "VZJcPg6UH_eA"
      },
      "execution_count": null,
      "outputs": []
    },
    {
      "cell_type": "code",
      "source": [
        "import pandas as pd\n",
        "import numpy as np\n",
        "\n",
        "# Define the year (update as needed)\n",
        "year = 2024\n",
        "\n",
        "# Generate a DataFrame with all dates of the year\n",
        "date_range = pd.date_range(start=f'{year}-01-01', end=f'{year}-12-31', freq='D')\n",
        "\n",
        "# Filter only Saturdays & Sundays\n",
        "weekends = date_range[date_range.weekday >= 5]\n",
        "\n",
        "# Count the number of weekends in each month\n",
        "weekend_counts = weekends.to_series().dt.strftime('%b').value_counts().sort_index()\n",
        "\n",
        "# Convert to DataFrame\n",
        "weekend_summary = pd.DataFrame({'Month': weekend_counts.index, 'Total Weekends': weekend_counts.values})\n",
        "\n",
        "# Display the result\n",
        "print(weekend_summary)\n",
        "\n",
        "weekend_summary.to_csv(\"Weekends_Per_Month.csv\", index=False)\n",
        "print(\"✅ CSV file saved: Weekends_Per_Month.csv\")\n",
        "\n"
      ],
      "metadata": {
        "colab": {
          "base_uri": "https://localhost:8080/"
        },
        "id": "C_gZ_42-PloQ",
        "outputId": "966aa802-4de2-4157-d648-37882fe58086"
      },
      "execution_count": null,
      "outputs": [
        {
          "output_type": "stream",
          "name": "stdout",
          "text": [
            "   Month  Total Weekends\n",
            "0    Apr               8\n",
            "1    Aug               9\n",
            "2    Dec               9\n",
            "3    Feb               8\n",
            "4    Jan               8\n",
            "5    Jul               8\n",
            "6    Jun              10\n",
            "7    Mar              10\n",
            "8    May               8\n",
            "9    Nov               9\n",
            "10   Oct               8\n",
            "11   Sep               9\n",
            "✅ CSV file saved: Weekends_Per_Month.csv\n"
          ]
        }
      ]
    },
    {
      "cell_type": "code",
      "source": [
        "# prompt: Total Days Working on Weekends\n",
        "\n",
        "# Assuming 'df' is your DataFrame loaded from 'Employee_Attendance_Data.csv'\n",
        "# ... (your existing code to load the dataframe)\n",
        "\n",
        "# Convert 'Date' column to datetime objects if it's not already\n",
        "df['Date'] = pd.to_datetime(df['Date'])\n",
        "\n",
        "# Extract day of the week (0=Monday, 6=Sunday)\n",
        "df['DayOfWeek'] = df['Date'].dt.dayofweek\n",
        "\n",
        "# Identify weekends (Saturday and Sunday)\n",
        "df['IsWeekend'] = df['DayOfWeek'].isin([5, 6])\n",
        "\n",
        "# Group by employee and calculate total weekend working days\n",
        "weekend_work_days = df.groupby('EmployeeID')['IsWeekend'].sum().reset_index()\n",
        "\n",
        "# Rename the column for clarity\n",
        "weekend_work_days.rename(columns={'IsWeekend': 'TotalWeekendWorkingDays'}, inplace=True)\n",
        "\n",
        "# Display or save the result\n",
        "print(weekend_work_days)\n",
        "\n",
        "weekend_work_days.to_csv(\"Weekend_Workdays_Per_Employee.csv\", index=False)\n",
        "print(\"✅ CSV file saved: Weekend_Workdays_Per_Employee.csv\")\n"
      ],
      "metadata": {
        "colab": {
          "base_uri": "https://localhost:8080/"
        },
        "id": "27_fIcFFY19C",
        "outputId": "6a9919ff-a612-44b6-e3c7-7d8f7b118419"
      },
      "execution_count": null,
      "outputs": [
        {
          "output_type": "stream",
          "name": "stdout",
          "text": [
            "      EmployeeID  TotalWeekendWorkingDays\n",
            "0           1000                        2\n",
            "1           1001                        1\n",
            "2           1002                        0\n",
            "3           1003                        3\n",
            "4           1004                        1\n",
            "...          ...                      ...\n",
            "8960        9995                        2\n",
            "8961        9996                        1\n",
            "8962        9997                        0\n",
            "8963        9998                        0\n",
            "8964        9999                        1\n",
            "\n",
            "[8965 rows x 2 columns]\n",
            "✅ CSV file saved: Weekend_Workdays_Per_Employee.csv\n"
          ]
        }
      ]
    },
    {
      "cell_type": "code",
      "source": [
        "# prompt: List down the total Weekends in Every Month using the same df\n",
        "\n",
        "# Assuming 'df' is your DataFrame loaded from 'Employee_Attendance_Data.csv'\n",
        "# ... (your existing code to load the dataframe)\n",
        "\n",
        "# Convert 'Date' column to datetime objects if it's not already\n",
        "df['Date'] = pd.to_datetime(df['Date'])\n",
        "\n",
        "# Extract year and month\n",
        "df['Year'] = df['Date'].dt.year\n",
        "df['Month'] = df['Date'].dt.month\n",
        "\n",
        "# Group by year and month, then count weekend days (Saturday and Sunday)\n",
        "weekend_counts_by_month = df[df['Date'].dt.weekday >= 5].groupby(['Year', 'Month'])['Date'].count().reset_index()\n",
        "\n",
        "# Rename columns for clarity\n",
        "weekend_counts_by_month.rename(columns={'Date': 'Total Weekends'}, inplace=True)\n",
        "\n",
        "# Display the result\n",
        "print(weekend_counts_by_month)\n",
        "\n",
        "# Save to a CSV file\n",
        "weekend_counts_by_month.to_csv(\"Weekends_Per_Month_Per_Year.csv\", index=False)\n",
        "print(\"✅ CSV file saved: Weekends_Per_Month_Per_Year.csv\")\n"
      ],
      "metadata": {
        "colab": {
          "base_uri": "https://localhost:8080/"
        },
        "id": "SZCGfYehZ1S7",
        "outputId": "383aee51-606c-4335-c571-455b38775e32"
      },
      "execution_count": null,
      "outputs": [
        {
          "output_type": "stream",
          "name": "stdout",
          "text": [
            "    Year  Month  Total Weekends\n",
            "0   2019      1             189\n",
            "1   2019      2             176\n",
            "2   2019      3             240\n",
            "3   2019      4             181\n",
            "4   2019      5             176\n",
            "..   ...    ...             ...\n",
            "67  2024      8             218\n",
            "68  2024      9             210\n",
            "69  2024     10             188\n",
            "70  2024     11             199\n",
            "71  2024     12             227\n",
            "\n",
            "[72 rows x 3 columns]\n",
            "✅ CSV file saved: Weekends_Per_Month_Per_Year.csv\n"
          ]
        }
      ]
    }
  ]
}